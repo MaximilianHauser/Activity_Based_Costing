{
 "cells": [
  {
   "cell_type": "markdown",
   "id": "6f3efaea",
   "metadata": {},
   "source": [
    "# Activity Based Costing\n",
    "\n",
    "Based on \"Measure Costs Right: Make the Right Decisions\" by Robin Cooper and Robert S. Kaplan, published September 1988 in Harvard Business Review. [https://hbr.org/1988/09/measure-costs-right-make-the-right-decisions]\n",
    "\n",
    "## Summary of ABC\n",
    "\n",
    "\n"
   ]
  },
  {
   "cell_type": "code",
   "execution_count": null,
   "id": "73b2eba8",
   "metadata": {},
   "outputs": [],
   "source": []
  }
 ],
 "metadata": {
  "kernelspec": {
   "display_name": "Python 3 (ipykernel)",
   "language": "python",
   "name": "python3"
  },
  "language_info": {
   "codemirror_mode": {
    "name": "ipython",
    "version": 3
   },
   "file_extension": ".py",
   "mimetype": "text/x-python",
   "name": "python",
   "nbconvert_exporter": "python",
   "pygments_lexer": "ipython3",
   "version": "3.9.13"
  }
 },
 "nbformat": 4,
 "nbformat_minor": 5
}
