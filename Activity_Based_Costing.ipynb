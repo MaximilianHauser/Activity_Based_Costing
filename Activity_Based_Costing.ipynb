{
 "cells": [
  {
   "cell_type": "markdown",
   "id": "6e74a0ad",
   "metadata": {},
   "source": [
    "# Activity Based Costing\n",
    "\n",
    "Based on \"Measure Costs Right: Make the Right Decisions\" by Robin Cooper and Robert S. Kaplan, published September 1988 in Harvard Business Review. [https://hbr.org/1988/09/measure-costs-right-make-the-right-decisions]\n",
    "\n",
    "## Summary of ABC\n",
    "\n",
    "ABC is the analysis of specific costs related to every activity performed by a company in the manufacturing of its products or services. In the past direct labor and materials could be easily traced back to individual products. In modern times direct labor represents a small fraction of the costs, the majority being factory support operations, marketing, distribution, engineering and other overhead functions. Given plummeting costs of information technology this was no longer justifiable. Virtually all of a companys activities exists in subservice to a companys production and support services. Nearly all factory and coorporate support costs are divisible or seperable, they can be split apart and traced to individual products or product families. The result is a minimization of distortion of product costs.\n",
    "\n",
    "## Designing an Activity Based Cost System\n",
    "\n",
    " 1. Collect accurate data on direct labor and materials costs\n",
    " 2. Collect demands made by particular products on indirect resources\n",
    " 3. To identify areas where an actual difference can be made, focus on expensive resources\n",
    " 4. To identify a real potential for distortion, ephansize resources, whose consumption varies significantly by product and product type and whose demand patterns, are uncorrelated with traditional allocation measures\n",
    " \n",
    "The result is cost allocation under an Activity Based System\n",
    " - costs are associated with an organizational element\n",
    " - a fitting activity measure is attributed to each cost (units, orders, customers, etc.)\n",
    " - excess capacity is excluded, investment expenditures are factored in across the life cycle\n",
    "\n",
    " => Costs per unit of activity\n"
   ]
  },
  {
   "cell_type": "code",
   "execution_count": null,
   "id": "940088c4",
   "metadata": {},
   "outputs": [],
   "source": []
  }
 ],
 "metadata": {
  "kernelspec": {
   "display_name": "Python 3 (ipykernel)",
   "language": "python",
   "name": "python3"
  },
  "language_info": {
   "codemirror_mode": {
    "name": "ipython",
    "version": 3
   },
   "file_extension": ".py",
   "mimetype": "text/x-python",
   "name": "python",
   "nbconvert_exporter": "python",
   "pygments_lexer": "ipython3",
   "version": "3.9.13"
  }
 },
 "nbformat": 4,
 "nbformat_minor": 5
}
